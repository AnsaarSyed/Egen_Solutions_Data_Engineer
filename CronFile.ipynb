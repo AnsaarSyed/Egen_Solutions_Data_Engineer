{
 "cells": [
  {
   "cell_type": "code",
   "execution_count": null,
   "metadata": {},
   "outputs": [],
   "source": [
    "from crontab import CronTab\n",
    "\n",
    "cron = CronTab(user = 'ansaar')\n",
    "job = cron.new(command='python /Users/ansaar/Downloads/DataIngestion_Ansaar.py')\n",
    "job.hour.every(24)\n",
    "job.hour.also.on(9)\n",
    "\n",
    "cron.write()"
   ]
  }
 ],
 "metadata": {
  "kernelspec": {
   "display_name": "Python 3",
   "language": "python",
   "name": "python3"
  },
  "language_info": {
   "codemirror_mode": {
    "name": "ipython",
    "version": 3
   },
   "file_extension": ".py",
   "mimetype": "text/x-python",
   "name": "python",
   "nbconvert_exporter": "python",
   "pygments_lexer": "ipython3",
   "version": "3.7.6"
  }
 },
 "nbformat": 4,
 "nbformat_minor": 4
}
